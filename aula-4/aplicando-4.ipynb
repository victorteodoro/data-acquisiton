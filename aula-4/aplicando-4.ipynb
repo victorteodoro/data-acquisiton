{
 "cells": [
  {
   "cell_type": "markdown",
   "metadata": {},
   "source": [
    "# Aplicando 4"
   ]
  },
  {
   "cell_type": "markdown",
   "metadata": {},
   "source": [
    "## Pergunta 1"
   ]
  },
  {
   "cell_type": "code",
   "execution_count": 10,
   "metadata": {},
   "outputs": [],
   "source": [
    "import numpy as np\n",
    "import pandas as pd\n",
    "import seaborn as sns\n",
    "import requests\n",
    "import xmltodict"
   ]
  },
  {
   "cell_type": "code",
   "execution_count": 16,
   "metadata": {},
   "outputs": [],
   "source": [
    "# Definicao dos das URLs das APIs desejadas\n",
    "url_universidades_all = \"http://universities.hipolabs.com/search\"\n",
    "url_universidades_us = \"http://universities.hipolabs.com/search?country=United%20States\"\n",
    "url_twitter = \"https://api.twitter.com/2/tweets/search/recent\"\n",
    "url_musicos = \"http://musicbrainz.org/ws/2/artist/?query=country:US&limit=80\""
   ]
  },
  {
   "cell_type": "code",
   "execution_count": 8,
   "metadata": {},
   "outputs": [
    {
     "data": {
      "text/plain": [
       "(2300, 6)"
      ]
     },
     "execution_count": 8,
     "metadata": {},
     "output_type": "execute_result"
    }
   ],
   "source": [
    "## API de universidades (JSON)\n",
    "\n",
    "# Extracao de dados de uma API em JSON diretamente pela funcao read_json\n",
    "df_universidades_us = pd.read_json(url_universidades_us)\n",
    "df_universidades_us.shape"
   ]
  },
  {
   "cell_type": "markdown",
   "metadata": {},
   "source": [
    "## Pergunta 2"
   ]
  },
  {
   "cell_type": "code",
   "execution_count": 11,
   "metadata": {},
   "outputs": [
    {
     "data": {
      "text/html": [
       "<div>\n",
       "<style scoped>\n",
       "    .dataframe tbody tr th:only-of-type {\n",
       "        vertical-align: middle;\n",
       "    }\n",
       "\n",
       "    .dataframe tbody tr th {\n",
       "        vertical-align: top;\n",
       "    }\n",
       "\n",
       "    .dataframe thead th {\n",
       "        text-align: right;\n",
       "    }\n",
       "</style>\n",
       "<table border=\"1\" class=\"dataframe\">\n",
       "  <thead>\n",
       "    <tr style=\"text-align: right;\">\n",
       "      <th></th>\n",
       "      <th>alpha_two_code</th>\n",
       "      <th>web_pages</th>\n",
       "      <th>state-province</th>\n",
       "      <th>name</th>\n",
       "      <th>domains</th>\n",
       "      <th>country</th>\n",
       "    </tr>\n",
       "  </thead>\n",
       "  <tbody>\n",
       "    <tr>\n",
       "      <th>1363</th>\n",
       "      <td>US</td>\n",
       "      <td>[http://www.lahc.edu]</td>\n",
       "      <td>None</td>\n",
       "      <td>Los Angeles Harbor College</td>\n",
       "      <td>[lahc.edu]</td>\n",
       "      <td>United States</td>\n",
       "    </tr>\n",
       "    <tr>\n",
       "      <th>1231</th>\n",
       "      <td>US</td>\n",
       "      <td>[http://www.xula.edu/]</td>\n",
       "      <td>None</td>\n",
       "      <td>Xavier University of Louisiana</td>\n",
       "      <td>[xula.edu]</td>\n",
       "      <td>United States</td>\n",
       "    </tr>\n",
       "    <tr>\n",
       "      <th>1848</th>\n",
       "      <td>US</td>\n",
       "      <td>[http://www.durhamtech.edu]</td>\n",
       "      <td>None</td>\n",
       "      <td>Durham Technical Community College</td>\n",
       "      <td>[durhamtech.edu]</td>\n",
       "      <td>United States</td>\n",
       "    </tr>\n",
       "    <tr>\n",
       "      <th>47</th>\n",
       "      <td>US</td>\n",
       "      <td>[https://itu.edu/]</td>\n",
       "      <td>None</td>\n",
       "      <td>International Technological University</td>\n",
       "      <td>[itu.edu]</td>\n",
       "      <td>United States</td>\n",
       "    </tr>\n",
       "    <tr>\n",
       "      <th>567</th>\n",
       "      <td>US</td>\n",
       "      <td>[http://www.luthersem.edu/]</td>\n",
       "      <td>None</td>\n",
       "      <td>Luther Seminary</td>\n",
       "      <td>[luthersem.edu]</td>\n",
       "      <td>United States</td>\n",
       "    </tr>\n",
       "  </tbody>\n",
       "</table>\n",
       "</div>"
      ],
      "text/plain": [
       "     alpha_two_code                    web_pages state-province  \\\n",
       "1363             US        [http://www.lahc.edu]           None   \n",
       "1231             US       [http://www.xula.edu/]           None   \n",
       "1848             US  [http://www.durhamtech.edu]           None   \n",
       "47               US           [https://itu.edu/]           None   \n",
       "567              US  [http://www.luthersem.edu/]           None   \n",
       "\n",
       "                                        name           domains        country  \n",
       "1363              Los Angeles Harbor College        [lahc.edu]  United States  \n",
       "1231          Xavier University of Louisiana        [xula.edu]  United States  \n",
       "1848      Durham Technical Community College  [durhamtech.edu]  United States  \n",
       "47    International Technological University         [itu.edu]  United States  \n",
       "567                          Luther Seminary   [luthersem.edu]  United States  "
      ]
     },
     "execution_count": 11,
     "metadata": {},
     "output_type": "execute_result"
    }
   ],
   "source": [
    "df_universidades_us.sample(5)"
   ]
  },
  {
   "cell_type": "markdown",
   "metadata": {},
   "source": [
    "## Pergunta 3"
   ]
  },
  {
   "cell_type": "code",
   "execution_count": 25,
   "metadata": {},
   "outputs": [],
   "source": [
    "# Chamada da API (GET)\n",
    "response_api = requests.request(\"GET\", url_musicos)\n",
    "\n",
    "# Extracao dos dados em XML e conversao para dicionario\n",
    "dict_data = xmltodict.parse(response_api.content)\n",
    "\n",
    "# Filtragem de dados especificos (artist)\n",
    "dict_data_artist = dict_data[\"metadata\"][\"artist-list\"][\"artist\"]\n",
    "\n",
    "# Extracao dos dados dos artisitas (lista)\n",
    "l_base_musicos = []\n",
    "for artist in dict_data_artist:\n",
    "    \n",
    "    # Concatenacao da lista de tags, separadas por \";\"\n",
    "    if \"tag-list\" in artist.keys():\n",
    "        tags_base = \"\"\n",
    "        if type(artist[\"tag-list\"][\"tag\"]) is list:\n",
    "            for tag in artist[\"tag-list\"][\"tag\"]:\n",
    "                tags_base = tags_base + tag.get(\"name\", \"\") + \";\"\n",
    "        else:\n",
    "           tags_base = artist.get(\"tag-list\").get(\"tag\").get(\"name\", np.NaN)\n",
    "    else:\n",
    "        tags_base = np.NaN\n",
    "            \n",
    "    l_base_musicos.append(\n",
    "       {\n",
    "           \"id\": artist.get(\"@id\", np.NaN),\n",
    "           \"ipi\": artist[\"ipi-list\"].get(\"ipi\", np.NaN) if artist.get(\"ipi-list\", False) else np.NaN,\n",
    "           \"name\": artist.get(\"name\", np.NaN),\n",
    "           \"type\": artist.get(\"@type\", np.NaN),\n",
    "           \"tags\": tags_base\n",
    "       }\n",
    "   )\n",
    "\n",
    "# Conversao de lista para DataFrame pandas\n",
    "df_musicos = pd.DataFrame(l_base_musicos)\n"
   ]
  },
  {
   "cell_type": "code",
   "execution_count": 26,
   "metadata": {},
   "outputs": [
    {
     "data": {
      "text/plain": [
       "(80, 5)"
      ]
     },
     "execution_count": 26,
     "metadata": {},
     "output_type": "execute_result"
    }
   ],
   "source": [
    "df_musicos.shape"
   ]
  },
  {
   "cell_type": "markdown",
   "metadata": {},
   "source": [
    "## Pergunta 4"
   ]
  },
  {
   "cell_type": "code",
   "execution_count": 27,
   "metadata": {},
   "outputs": [
    {
     "data": {
      "text/html": [
       "<div>\n",
       "<style scoped>\n",
       "    .dataframe tbody tr th:only-of-type {\n",
       "        vertical-align: middle;\n",
       "    }\n",
       "\n",
       "    .dataframe tbody tr th {\n",
       "        vertical-align: top;\n",
       "    }\n",
       "\n",
       "    .dataframe thead th {\n",
       "        text-align: right;\n",
       "    }\n",
       "</style>\n",
       "<table border=\"1\" class=\"dataframe\">\n",
       "  <thead>\n",
       "    <tr style=\"text-align: right;\">\n",
       "      <th></th>\n",
       "      <th>id</th>\n",
       "      <th>ipi</th>\n",
       "      <th>name</th>\n",
       "      <th>type</th>\n",
       "      <th>tags</th>\n",
       "    </tr>\n",
       "  </thead>\n",
       "  <tbody>\n",
       "    <tr>\n",
       "      <th>16</th>\n",
       "      <td>ebfc1398-8d96-47e3-82c3-f782abcdb13d</td>\n",
       "      <td>NaN</td>\n",
       "      <td>The Beach Boys</td>\n",
       "      <td>Group</td>\n",
       "      <td>rock;pop;american;usa;psychedelic rock;américa...</td>\n",
       "    </tr>\n",
       "    <tr>\n",
       "      <th>17</th>\n",
       "      <td>070d193a-845c-479f-980e-bef15710653e</td>\n",
       "      <td>[00045620792, 00052210040, 00334284961]</td>\n",
       "      <td>Prince</td>\n",
       "      <td>Person</td>\n",
       "      <td>rock;pop;70s;80s;90s;dance;punk;american;usa;f...</td>\n",
       "    </tr>\n",
       "    <tr>\n",
       "      <th>5</th>\n",
       "      <td>6faa7ca7-0d99-4a5e-bfa6-1fd5037520c6</td>\n",
       "      <td>NaN</td>\n",
       "      <td>Grateful Dead</td>\n",
       "      <td>Group</td>\n",
       "      <td>rock;folk;american;blues;folk rock;rnb;psyched...</td>\n",
       "    </tr>\n",
       "    <tr>\n",
       "      <th>11</th>\n",
       "      <td>e01646f2-2a04-450d-8bf2-0d993082e058</td>\n",
       "      <td>NaN</td>\n",
       "      <td>Phish</td>\n",
       "      <td>Group</td>\n",
       "      <td>rock;alternative rock;progressive rock;jazz;am...</td>\n",
       "    </tr>\n",
       "    <tr>\n",
       "      <th>47</th>\n",
       "      <td>0bbbc496-c7b5-4b3f-bb6d-bd312827d6e5</td>\n",
       "      <td>00022974973</td>\n",
       "      <td>Roy Orbison</td>\n",
       "      <td>Person</td>\n",
       "      <td>rock;pop;american;rockabilly;baroque pop;pop r...</td>\n",
       "    </tr>\n",
       "  </tbody>\n",
       "</table>\n",
       "</div>"
      ],
      "text/plain": [
       "                                      id  \\\n",
       "16  ebfc1398-8d96-47e3-82c3-f782abcdb13d   \n",
       "17  070d193a-845c-479f-980e-bef15710653e   \n",
       "5   6faa7ca7-0d99-4a5e-bfa6-1fd5037520c6   \n",
       "11  e01646f2-2a04-450d-8bf2-0d993082e058   \n",
       "47  0bbbc496-c7b5-4b3f-bb6d-bd312827d6e5   \n",
       "\n",
       "                                        ipi            name    type  \\\n",
       "16                                      NaN  The Beach Boys   Group   \n",
       "17  [00045620792, 00052210040, 00334284961]          Prince  Person   \n",
       "5                                       NaN   Grateful Dead   Group   \n",
       "11                                      NaN           Phish   Group   \n",
       "47                              00022974973     Roy Orbison  Person   \n",
       "\n",
       "                                                 tags  \n",
       "16  rock;pop;american;usa;psychedelic rock;américa...  \n",
       "17  rock;pop;70s;80s;90s;dance;punk;american;usa;f...  \n",
       "5   rock;folk;american;blues;folk rock;rnb;psyched...  \n",
       "11  rock;alternative rock;progressive rock;jazz;am...  \n",
       "47  rock;pop;american;rockabilly;baroque pop;pop r...  "
      ]
     },
     "execution_count": 27,
     "metadata": {},
     "output_type": "execute_result"
    }
   ],
   "source": [
    "df_musicos.sample(5)"
   ]
  },
  {
   "cell_type": "markdown",
   "metadata": {},
   "source": [
    "## Pergunta 5"
   ]
  },
  {
   "cell_type": "code",
   "execution_count": 29,
   "metadata": {},
   "outputs": [],
   "source": [
    "# Importar a base stores\n",
    "df_stores = pd.read_csv(\"./stores.csv\")"
   ]
  },
  {
   "cell_type": "code",
   "execution_count": 31,
   "metadata": {},
   "outputs": [
    {
     "data": {
      "text/html": [
       "<div>\n",
       "<style scoped>\n",
       "    .dataframe tbody tr th:only-of-type {\n",
       "        vertical-align: middle;\n",
       "    }\n",
       "\n",
       "    .dataframe tbody tr th {\n",
       "        vertical-align: top;\n",
       "    }\n",
       "\n",
       "    .dataframe thead th {\n",
       "        text-align: right;\n",
       "    }\n",
       "</style>\n",
       "<table border=\"1\" class=\"dataframe\">\n",
       "  <thead>\n",
       "    <tr style=\"text-align: right;\">\n",
       "      <th></th>\n",
       "      <th>Items_Available</th>\n",
       "    </tr>\n",
       "  </thead>\n",
       "  <tbody>\n",
       "    <tr>\n",
       "      <th>mean</th>\n",
       "      <td>1782.035714</td>\n",
       "    </tr>\n",
       "    <tr>\n",
       "      <th>var</th>\n",
       "      <td>89923.247885</td>\n",
       "    </tr>\n",
       "    <tr>\n",
       "      <th>std</th>\n",
       "      <td>299.872053</td>\n",
       "    </tr>\n",
       "  </tbody>\n",
       "</table>\n",
       "</div>"
      ],
      "text/plain": [
       "      Items_Available\n",
       "mean      1782.035714\n",
       "var      89923.247885\n",
       "std        299.872053"
      ]
     },
     "execution_count": 31,
     "metadata": {},
     "output_type": "execute_result"
    }
   ],
   "source": [
    "df_stores.agg(\n",
    "    {\n",
    "        \"Items_Available\": [\"mean\", \"var\", \"std\"]\n",
    "    }\n",
    ")"
   ]
  },
  {
   "cell_type": "markdown",
   "metadata": {},
   "source": [
    "## Pergunta 6"
   ]
  },
  {
   "cell_type": "code",
   "execution_count": 34,
   "metadata": {},
   "outputs": [
    {
     "data": {
      "text/plain": [
       "0.25    1575.50\n",
       "0.50    1773.50\n",
       "0.75    1982.75\n",
       "Name: Items_Available, dtype: float64"
      ]
     },
     "execution_count": 34,
     "metadata": {},
     "output_type": "execute_result"
    }
   ],
   "source": [
    "df_stores[\"Items_Available\"].quantile([.25, .5, .75])"
   ]
  },
  {
   "cell_type": "markdown",
   "metadata": {},
   "source": [
    "## Pergunta 7"
   ]
  },
  {
   "cell_type": "code",
   "execution_count": 36,
   "metadata": {},
   "outputs": [],
   "source": [
    "# Importar a base best_selling_mobile_phones\n",
    "df_mobile = pd.read_csv(\"./best_selling_mobile_phones.csv\")"
   ]
  },
  {
   "cell_type": "code",
   "execution_count": 39,
   "metadata": {},
   "outputs": [
    {
     "data": {
      "text/plain": [
       "year\n",
       "1996     60.000000\n",
       "1999    161.000000\n",
       "2000    126.000000\n",
       "2003     77.571429\n",
       "2004     73.333333\n",
       "2005     99.500000\n",
       "2006     26.333333\n",
       "2007     44.125000\n",
       "2008     17.500000\n",
       "2009     60.000000\n",
       "2010     58.333333\n",
       "2011     27.800000\n",
       "2012     64.050000\n",
       "2013     89.500000\n",
       "2014     79.500000\n",
       "2015    109.550000\n",
       "2016     38.142857\n",
       "2017     51.140000\n",
       "2018     33.950000\n",
       "2019     24.788889\n",
       "2020     20.380000\n",
       "2021     13.500000\n",
       "Name: units_sold_m, dtype: float64"
      ]
     },
     "execution_count": 39,
     "metadata": {},
     "output_type": "execute_result"
    }
   ],
   "source": [
    "df_mobile.groupby('year')['units_sold_m'].mean()"
   ]
  },
  {
   "cell_type": "code",
   "execution_count": 41,
   "metadata": {},
   "outputs": [
    {
     "data": {
      "text/plain": [
       "form\n",
       "Bar             65.0\n",
       "Flip phone      47.5\n",
       "Touchscreen     18.2\n",
       "Slider          18.0\n",
       "Keyboard bar     8.5\n",
       "Taco             3.0\n",
       "Tilt slider      2.0\n",
       "Name: units_sold_m, dtype: float64"
      ]
     },
     "execution_count": 41,
     "metadata": {},
     "output_type": "execute_result"
    }
   ],
   "source": [
    "df_mobile.groupby('form')['units_sold_m'].median().sort_values(ascending=False)"
   ]
  }
 ],
 "metadata": {
  "kernelspec": {
   "display_name": "data-acquisiton",
   "language": "python",
   "name": "python3"
  },
  "language_info": {
   "codemirror_mode": {
    "name": "ipython",
    "version": 3
   },
   "file_extension": ".py",
   "mimetype": "text/x-python",
   "name": "python",
   "nbconvert_exporter": "python",
   "pygments_lexer": "ipython3",
   "version": "3.12.2"
  }
 },
 "nbformat": 4,
 "nbformat_minor": 2
}
