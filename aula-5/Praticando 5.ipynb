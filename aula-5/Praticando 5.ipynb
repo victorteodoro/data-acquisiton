{
 "cells": [
  {
   "cell_type": "markdown",
   "metadata": {},
   "source": [
    "# Aplicando 5\n",
    "Tratamento de dados faltantes e outliers"
   ]
  },
  {
   "cell_type": "code",
   "execution_count": 1,
   "metadata": {},
   "outputs": [],
   "source": [
    "import pandas as pd\n",
    "import numpy as np\n",
    "import seaborn as sns\n",
    "import matplotlib.pyplot as plt"
   ]
  },
  {
   "cell_type": "code",
   "execution_count": 3,
   "metadata": {},
   "outputs": [
    {
     "data": {
      "text/html": [
       "<div>\n",
       "<style scoped>\n",
       "    .dataframe tbody tr th:only-of-type {\n",
       "        vertical-align: middle;\n",
       "    }\n",
       "\n",
       "    .dataframe tbody tr th {\n",
       "        vertical-align: top;\n",
       "    }\n",
       "\n",
       "    .dataframe thead th {\n",
       "        text-align: right;\n",
       "    }\n",
       "</style>\n",
       "<table border=\"1\" class=\"dataframe\">\n",
       "  <thead>\n",
       "    <tr style=\"text-align: right;\">\n",
       "      <th></th>\n",
       "      <th>Regiao - Sigla</th>\n",
       "      <th>Estado - Sigla</th>\n",
       "      <th>Municipio</th>\n",
       "      <th>Revenda</th>\n",
       "      <th>CNPJ da Revenda</th>\n",
       "      <th>Nome da Rua</th>\n",
       "      <th>Numero Rua</th>\n",
       "      <th>Complemento</th>\n",
       "      <th>Bairro</th>\n",
       "      <th>Cep</th>\n",
       "      <th>Produto</th>\n",
       "      <th>Data da Coleta</th>\n",
       "      <th>Valor de Venda</th>\n",
       "      <th>Valor de Compra</th>\n",
       "      <th>Unidade de Medida</th>\n",
       "      <th>Bandeira</th>\n",
       "    </tr>\n",
       "  </thead>\n",
       "  <tbody>\n",
       "    <tr>\n",
       "      <th>9520</th>\n",
       "      <td>SE</td>\n",
       "      <td>SP</td>\n",
       "      <td>LIMEIRA</td>\n",
       "      <td>AUTO POSTO BY BRASIL LTDA.</td>\n",
       "      <td>09.156.786/0001-05</td>\n",
       "      <td>RUA DONA MARIA THEREZA SILVEIRA BARROS CAMARGO</td>\n",
       "      <td>1600</td>\n",
       "      <td>NaN</td>\n",
       "      <td>JARDIM SANTO ANDRE</td>\n",
       "      <td>13484-270</td>\n",
       "      <td>GASOLINA</td>\n",
       "      <td>05/04/2022</td>\n",
       "      <td>6,798</td>\n",
       "      <td>NaN</td>\n",
       "      <td>R$ / litro</td>\n",
       "      <td>BRANCA</td>\n",
       "    </tr>\n",
       "    <tr>\n",
       "      <th>10241</th>\n",
       "      <td>N</td>\n",
       "      <td>PA</td>\n",
       "      <td>ANANINDEUA</td>\n",
       "      <td>LORENA COMERCIO DE PRODUTOS DE PETROLEO LTDA</td>\n",
       "      <td>06.266.344/0005-57</td>\n",
       "      <td>TRAVESSA   SN-03</td>\n",
       "      <td>S/N</td>\n",
       "      <td>CONJUNTO CIDADE NOVA IV</td>\n",
       "      <td>CIDADE NOVA</td>\n",
       "      <td>67133-810</td>\n",
       "      <td>GASOLINA</td>\n",
       "      <td>05/04/2022</td>\n",
       "      <td>7,099</td>\n",
       "      <td>NaN</td>\n",
       "      <td>R$ / litro</td>\n",
       "      <td>BRANCA</td>\n",
       "    </tr>\n",
       "    <tr>\n",
       "      <th>14238</th>\n",
       "      <td>SE</td>\n",
       "      <td>ES</td>\n",
       "      <td>SERRA</td>\n",
       "      <td>AUTO SERVICO GASVIX LTDA</td>\n",
       "      <td>05.684.518/0001-05</td>\n",
       "      <td>RODOVIA BR 101 NORTE</td>\n",
       "      <td>S/N</td>\n",
       "      <td>KM    8,5</td>\n",
       "      <td>CARAPINA GRANDE</td>\n",
       "      <td>29160-042</td>\n",
       "      <td>GASOLINA</td>\n",
       "      <td>11/04/2022</td>\n",
       "      <td>7,399</td>\n",
       "      <td>NaN</td>\n",
       "      <td>R$ / litro</td>\n",
       "      <td>VIBRA ENERGIA</td>\n",
       "    </tr>\n",
       "    <tr>\n",
       "      <th>5912</th>\n",
       "      <td>NE</td>\n",
       "      <td>PE</td>\n",
       "      <td>IGARASSU</td>\n",
       "      <td>CEMOPEL CM PETROLEO LTDA</td>\n",
       "      <td>69.943.686/0004-01</td>\n",
       "      <td>AVENIDA BARAO VERA CRUZ</td>\n",
       "      <td>975</td>\n",
       "      <td>NaN</td>\n",
       "      <td>CRUZ DE REBOUCAS</td>\n",
       "      <td>53610-296</td>\n",
       "      <td>ETANOL</td>\n",
       "      <td>04/04/2022</td>\n",
       "      <td>5,399</td>\n",
       "      <td>NaN</td>\n",
       "      <td>R$ / litro</td>\n",
       "      <td>RAIZEN</td>\n",
       "    </tr>\n",
       "    <tr>\n",
       "      <th>25806</th>\n",
       "      <td>NE</td>\n",
       "      <td>MA</td>\n",
       "      <td>CODO</td>\n",
       "      <td>VIEIRA E MATOS LTDA</td>\n",
       "      <td>24.857.769/0001-99</td>\n",
       "      <td>AVENIDA SANTOS DUMONT</td>\n",
       "      <td>4520</td>\n",
       "      <td>NaN</td>\n",
       "      <td>SAO SEBASTIAO</td>\n",
       "      <td>65400-000</td>\n",
       "      <td>GASOLINA ADITIVADA</td>\n",
       "      <td>11/04/2022</td>\n",
       "      <td>7,66</td>\n",
       "      <td>NaN</td>\n",
       "      <td>R$ / litro</td>\n",
       "      <td>BRANCA</td>\n",
       "    </tr>\n",
       "    <tr>\n",
       "      <th>26817</th>\n",
       "      <td>SE</td>\n",
       "      <td>SP</td>\n",
       "      <td>SAO PAULO</td>\n",
       "      <td>POSTO DE SERVICOS DUBLIM LTDA</td>\n",
       "      <td>31.938.633/0001-79</td>\n",
       "      <td>AVENIDA MARECHAL TITO</td>\n",
       "      <td>5350</td>\n",
       "      <td>NaN</td>\n",
       "      <td>ITAIM PAULISTA</td>\n",
       "      <td>08115-000</td>\n",
       "      <td>GASOLINA</td>\n",
       "      <td>14/04/2022</td>\n",
       "      <td>6,699</td>\n",
       "      <td>NaN</td>\n",
       "      <td>R$ / litro</td>\n",
       "      <td>IPIRANGA</td>\n",
       "    </tr>\n",
       "    <tr>\n",
       "      <th>663</th>\n",
       "      <td>NE</td>\n",
       "      <td>CE</td>\n",
       "      <td>SOBRAL</td>\n",
       "      <td>V.C.EMPREENDIMENTOS LTDA</td>\n",
       "      <td>03.551.935/0002-35</td>\n",
       "      <td>AVENIDA JOSE EUCLIDES FERREIRA GOMES</td>\n",
       "      <td>30</td>\n",
       "      <td>POSTO FLASH</td>\n",
       "      <td>CORACAO DE JESUS</td>\n",
       "      <td>62043-070</td>\n",
       "      <td>ETANOL</td>\n",
       "      <td>04/04/2022</td>\n",
       "      <td>6,199</td>\n",
       "      <td>NaN</td>\n",
       "      <td>R$ / litro</td>\n",
       "      <td>RAIZEN</td>\n",
       "    </tr>\n",
       "    <tr>\n",
       "      <th>11208</th>\n",
       "      <td>SE</td>\n",
       "      <td>SP</td>\n",
       "      <td>OURINHOS</td>\n",
       "      <td>AUTO POSTO MIRANTE DE OURINHOS LTDA</td>\n",
       "      <td>23.085.488/0001-00</td>\n",
       "      <td>AVENIDA LUIZ SALDANHA RODRIGUES</td>\n",
       "      <td>1560</td>\n",
       "      <td>NaN</td>\n",
       "      <td>NOVA OURINHOS</td>\n",
       "      <td>19907-510</td>\n",
       "      <td>GASOLINA</td>\n",
       "      <td>07/04/2022</td>\n",
       "      <td>7,399</td>\n",
       "      <td>NaN</td>\n",
       "      <td>R$ / litro</td>\n",
       "      <td>IPIRANGA</td>\n",
       "    </tr>\n",
       "    <tr>\n",
       "      <th>29360</th>\n",
       "      <td>NE</td>\n",
       "      <td>PE</td>\n",
       "      <td>RECIFE</td>\n",
       "      <td>A. V. COMBUSTIVEIS LTDA</td>\n",
       "      <td>02.162.112/0002-55</td>\n",
       "      <td>AVENIDA DEZESSETE DE AGOSTO</td>\n",
       "      <td>2290</td>\n",
       "      <td>NaN</td>\n",
       "      <td>POCO</td>\n",
       "      <td>52060-485</td>\n",
       "      <td>ETANOL</td>\n",
       "      <td>20/04/2022</td>\n",
       "      <td>5,799</td>\n",
       "      <td>NaN</td>\n",
       "      <td>R$ / litro</td>\n",
       "      <td>DISLUB</td>\n",
       "    </tr>\n",
       "    <tr>\n",
       "      <th>19291</th>\n",
       "      <td>NE</td>\n",
       "      <td>PB</td>\n",
       "      <td>JOAO PESSOA</td>\n",
       "      <td>MOTOGAS INDUSTRIA DE COMPRESSAO E COMERCIO DE ...</td>\n",
       "      <td>01.420.327/0002-66</td>\n",
       "      <td>AVENIDA EPITACIO PESSOA</td>\n",
       "      <td>3313</td>\n",
       "      <td>NaN</td>\n",
       "      <td>TAMBAUZINHO</td>\n",
       "      <td>58039-000</td>\n",
       "      <td>GASOLINA</td>\n",
       "      <td>14/04/2022</td>\n",
       "      <td>6,96</td>\n",
       "      <td>NaN</td>\n",
       "      <td>R$ / litro</td>\n",
       "      <td>BRANCA</td>\n",
       "    </tr>\n",
       "  </tbody>\n",
       "</table>\n",
       "</div>"
      ],
      "text/plain": [
       "      Regiao - Sigla Estado - Sigla    Municipio  \\\n",
       "9520              SE             SP      LIMEIRA   \n",
       "10241              N             PA   ANANINDEUA   \n",
       "14238             SE             ES        SERRA   \n",
       "5912              NE             PE     IGARASSU   \n",
       "25806             NE             MA         CODO   \n",
       "26817             SE             SP    SAO PAULO   \n",
       "663               NE             CE       SOBRAL   \n",
       "11208             SE             SP     OURINHOS   \n",
       "29360             NE             PE       RECIFE   \n",
       "19291             NE             PB  JOAO PESSOA   \n",
       "\n",
       "                                                 Revenda      CNPJ da Revenda  \\\n",
       "9520                          AUTO POSTO BY BRASIL LTDA.   09.156.786/0001-05   \n",
       "10241       LORENA COMERCIO DE PRODUTOS DE PETROLEO LTDA   06.266.344/0005-57   \n",
       "14238                           AUTO SERVICO GASVIX LTDA   05.684.518/0001-05   \n",
       "5912                            CEMOPEL CM PETROLEO LTDA   69.943.686/0004-01   \n",
       "25806                                VIEIRA E MATOS LTDA   24.857.769/0001-99   \n",
       "26817                      POSTO DE SERVICOS DUBLIM LTDA   31.938.633/0001-79   \n",
       "663                             V.C.EMPREENDIMENTOS LTDA   03.551.935/0002-35   \n",
       "11208                AUTO POSTO MIRANTE DE OURINHOS LTDA   23.085.488/0001-00   \n",
       "29360                            A. V. COMBUSTIVEIS LTDA   02.162.112/0002-55   \n",
       "19291  MOTOGAS INDUSTRIA DE COMPRESSAO E COMERCIO DE ...   01.420.327/0002-66   \n",
       "\n",
       "                                          Nome da Rua Numero Rua  \\\n",
       "9520   RUA DONA MARIA THEREZA SILVEIRA BARROS CAMARGO       1600   \n",
       "10241                                TRAVESSA   SN-03        S/N   \n",
       "14238                            RODOVIA BR 101 NORTE        S/N   \n",
       "5912                          AVENIDA BARAO VERA CRUZ        975   \n",
       "25806                           AVENIDA SANTOS DUMONT       4520   \n",
       "26817                           AVENIDA MARECHAL TITO       5350   \n",
       "663              AVENIDA JOSE EUCLIDES FERREIRA GOMES         30   \n",
       "11208                 AVENIDA LUIZ SALDANHA RODRIGUES       1560   \n",
       "29360                     AVENIDA DEZESSETE DE AGOSTO       2290   \n",
       "19291                         AVENIDA EPITACIO PESSOA       3313   \n",
       "\n",
       "                   Complemento              Bairro        Cep  \\\n",
       "9520                       NaN  JARDIM SANTO ANDRE  13484-270   \n",
       "10241  CONJUNTO CIDADE NOVA IV         CIDADE NOVA  67133-810   \n",
       "14238                KM    8,5     CARAPINA GRANDE  29160-042   \n",
       "5912                       NaN    CRUZ DE REBOUCAS  53610-296   \n",
       "25806                      NaN       SAO SEBASTIAO  65400-000   \n",
       "26817                      NaN      ITAIM PAULISTA  08115-000   \n",
       "663                POSTO FLASH    CORACAO DE JESUS  62043-070   \n",
       "11208                      NaN       NOVA OURINHOS  19907-510   \n",
       "29360                      NaN                POCO  52060-485   \n",
       "19291                      NaN         TAMBAUZINHO  58039-000   \n",
       "\n",
       "                  Produto Data da Coleta Valor de Venda  Valor de Compra  \\\n",
       "9520             GASOLINA     05/04/2022          6,798              NaN   \n",
       "10241            GASOLINA     05/04/2022          7,099              NaN   \n",
       "14238            GASOLINA     11/04/2022          7,399              NaN   \n",
       "5912               ETANOL     04/04/2022          5,399              NaN   \n",
       "25806  GASOLINA ADITIVADA     11/04/2022           7,66              NaN   \n",
       "26817            GASOLINA     14/04/2022          6,699              NaN   \n",
       "663                ETANOL     04/04/2022          6,199              NaN   \n",
       "11208            GASOLINA     07/04/2022          7,399              NaN   \n",
       "29360              ETANOL     20/04/2022          5,799              NaN   \n",
       "19291            GASOLINA     14/04/2022           6,96              NaN   \n",
       "\n",
       "      Unidade de Medida       Bandeira  \n",
       "9520         R$ / litro         BRANCA  \n",
       "10241        R$ / litro         BRANCA  \n",
       "14238        R$ / litro  VIBRA ENERGIA  \n",
       "5912         R$ / litro         RAIZEN  \n",
       "25806        R$ / litro         BRANCA  \n",
       "26817        R$ / litro       IPIRANGA  \n",
       "663          R$ / litro         RAIZEN  \n",
       "11208        R$ / litro       IPIRANGA  \n",
       "29360        R$ / litro         DISLUB  \n",
       "19291        R$ / litro         BRANCA  "
      ]
     },
     "execution_count": 3,
     "metadata": {},
     "output_type": "execute_result"
    }
   ],
   "source": [
    "prices = pd.read_csv('precos_gasolina_etanol.csv', sep=';')\n",
    "\n",
    "prices.sample(10)"
   ]
  },
  {
   "cell_type": "code",
   "execution_count": 5,
   "metadata": {},
   "outputs": [
    {
     "data": {
      "text/plain": [
       "(54960, 16)"
      ]
     },
     "execution_count": 5,
     "metadata": {},
     "output_type": "execute_result"
    }
   ],
   "source": [
    "prices.shape"
   ]
  },
  {
   "cell_type": "code",
   "execution_count": 6,
   "metadata": {},
   "outputs": [
    {
     "name": "stdout",
     "output_type": "stream",
     "text": [
      "<class 'pandas.core.frame.DataFrame'>\n",
      "RangeIndex: 54960 entries, 0 to 54959\n",
      "Data columns (total 16 columns):\n",
      " #   Column             Non-Null Count  Dtype  \n",
      "---  ------             --------------  -----  \n",
      " 0   Regiao - Sigla     54960 non-null  object \n",
      " 1   Estado - Sigla     54960 non-null  object \n",
      " 2   Municipio          54960 non-null  object \n",
      " 3   Revenda            54960 non-null  object \n",
      " 4   CNPJ da Revenda    54960 non-null  object \n",
      " 5   Nome da Rua        54960 non-null  object \n",
      " 6   Numero Rua         54936 non-null  object \n",
      " 7   Complemento        11691 non-null  object \n",
      " 8   Bairro             54787 non-null  object \n",
      " 9   Cep                54960 non-null  object \n",
      " 10  Produto            54960 non-null  object \n",
      " 11  Data da Coleta     54960 non-null  object \n",
      " 12  Valor de Venda     54960 non-null  object \n",
      " 13  Valor de Compra    0 non-null      float64\n",
      " 14  Unidade de Medida  54960 non-null  object \n",
      " 15  Bandeira           54960 non-null  object \n",
      "dtypes: float64(1), object(15)\n",
      "memory usage: 6.7+ MB\n"
     ]
    }
   ],
   "source": [
    "prices.info()"
   ]
  },
  {
   "cell_type": "markdown",
   "metadata": {},
   "source": [
    "### Pergunta 1 e 2"
   ]
  },
  {
   "cell_type": "code",
   "execution_count": 4,
   "metadata": {},
   "outputs": [
    {
     "data": {
      "text/plain": [
       "Regiao - Sigla           0\n",
       "Estado - Sigla           0\n",
       "Municipio                0\n",
       "Revenda                  0\n",
       "CNPJ da Revenda          0\n",
       "Nome da Rua              0\n",
       "Numero Rua              24\n",
       "Complemento          43269\n",
       "Bairro                 173\n",
       "Cep                      0\n",
       "Produto                  0\n",
       "Data da Coleta           0\n",
       "Valor de Venda           0\n",
       "Valor de Compra      54960\n",
       "Unidade de Medida        0\n",
       "Bandeira                 0\n",
       "dtype: int64"
      ]
     },
     "execution_count": 4,
     "metadata": {},
     "output_type": "execute_result"
    }
   ],
   "source": [
    "prices.isna().sum()"
   ]
  },
  {
   "cell_type": "markdown",
   "metadata": {},
   "source": [
    "### Pergunta 3"
   ]
  },
  {
   "cell_type": "code",
   "execution_count": 7,
   "metadata": {},
   "outputs": [
    {
     "data": {
      "text/plain": [
       "197"
      ]
     },
     "execution_count": 7,
     "metadata": {},
     "output_type": "execute_result"
    }
   ],
   "source": [
    "prices_filtered = prices.dropna(subset=['Numero Rua', 'Bairro'])\n",
    "\n",
    "len(prices) - len(prices_filtered) "
   ]
  },
  {
   "cell_type": "markdown",
   "metadata": {},
   "source": [
    "### Pergunta 4"
   ]
  },
  {
   "cell_type": "code",
   "execution_count": 8,
   "metadata": {},
   "outputs": [
    {
     "data": {
      "text/plain": [
       "43297"
      ]
     },
     "execution_count": 8,
     "metadata": {},
     "output_type": "execute_result"
    }
   ],
   "source": [
    "prices_filtered = prices.dropna(subset=['Complemento', 'Bairro'])\n",
    "\n",
    "len(prices) - len(prices_filtered) "
   ]
  },
  {
   "cell_type": "markdown",
   "metadata": {},
   "source": [
    "### Pergunta 5"
   ]
  },
  {
   "cell_type": "code",
   "execution_count": 11,
   "metadata": {},
   "outputs": [
    {
     "data": {
      "text/html": [
       "<div>\n",
       "<style scoped>\n",
       "    .dataframe tbody tr th:only-of-type {\n",
       "        vertical-align: middle;\n",
       "    }\n",
       "\n",
       "    .dataframe tbody tr th {\n",
       "        vertical-align: top;\n",
       "    }\n",
       "\n",
       "    .dataframe thead th {\n",
       "        text-align: right;\n",
       "    }\n",
       "</style>\n",
       "<table border=\"1\" class=\"dataframe\">\n",
       "  <thead>\n",
       "    <tr style=\"text-align: right;\">\n",
       "      <th></th>\n",
       "      <th>Rank</th>\n",
       "      <th>City</th>\n",
       "      <th>Cost of Living Index</th>\n",
       "      <th>Rent Index</th>\n",
       "      <th>Cost of Living Plus Rent Index</th>\n",
       "      <th>Groceries Index</th>\n",
       "      <th>Restaurant Price Index</th>\n",
       "      <th>Local Purchasing Power Index</th>\n",
       "    </tr>\n",
       "  </thead>\n",
       "  <tbody>\n",
       "    <tr>\n",
       "      <th>269</th>\n",
       "      <td>NaN</td>\n",
       "      <td>Leicester, United Kingdom</td>\n",
       "      <td>64.91</td>\n",
       "      <td>24.93</td>\n",
       "      <td>46.17</td>\n",
       "      <td>52.47</td>\n",
       "      <td>72.19</td>\n",
       "      <td>92.59</td>\n",
       "    </tr>\n",
       "    <tr>\n",
       "      <th>525</th>\n",
       "      <td>NaN</td>\n",
       "      <td>Bogota, Colombia</td>\n",
       "      <td>27.94</td>\n",
       "      <td>11.61</td>\n",
       "      <td>20.29</td>\n",
       "      <td>24.33</td>\n",
       "      <td>21.98</td>\n",
       "      <td>26.10</td>\n",
       "    </tr>\n",
       "    <tr>\n",
       "      <th>351</th>\n",
       "      <td>NaN</td>\n",
       "      <td>Phnom Penh, Cambodia</td>\n",
       "      <td>50.10</td>\n",
       "      <td>18.84</td>\n",
       "      <td>35.44</td>\n",
       "      <td>54.48</td>\n",
       "      <td>23.19</td>\n",
       "      <td>14.80</td>\n",
       "    </tr>\n",
       "    <tr>\n",
       "      <th>459</th>\n",
       "      <td>NaN</td>\n",
       "      <td>Merida, Mexico</td>\n",
       "      <td>35.70</td>\n",
       "      <td>11.58</td>\n",
       "      <td>24.40</td>\n",
       "      <td>35.71</td>\n",
       "      <td>36.46</td>\n",
       "      <td>33.50</td>\n",
       "    </tr>\n",
       "    <tr>\n",
       "      <th>112</th>\n",
       "      <td>NaN</td>\n",
       "      <td>Denver, CO, United States</td>\n",
       "      <td>75.16</td>\n",
       "      <td>55.36</td>\n",
       "      <td>65.88</td>\n",
       "      <td>72.13</td>\n",
       "      <td>76.59</td>\n",
       "      <td>129.98</td>\n",
       "    </tr>\n",
       "    <tr>\n",
       "      <th>352</th>\n",
       "      <td>NaN</td>\n",
       "      <td>Zagreb, Croatia</td>\n",
       "      <td>49.88</td>\n",
       "      <td>17.10</td>\n",
       "      <td>34.51</td>\n",
       "      <td>42.03</td>\n",
       "      <td>40.36</td>\n",
       "      <td>55.08</td>\n",
       "    </tr>\n",
       "    <tr>\n",
       "      <th>100</th>\n",
       "      <td>NaN</td>\n",
       "      <td>Tampa, FL, United States</td>\n",
       "      <td>75.83</td>\n",
       "      <td>46.37</td>\n",
       "      <td>62.02</td>\n",
       "      <td>80.03</td>\n",
       "      <td>74.23</td>\n",
       "      <td>98.28</td>\n",
       "    </tr>\n",
       "    <tr>\n",
       "      <th>51</th>\n",
       "      <td>NaN</td>\n",
       "      <td>Nanaimo, BC, Canada</td>\n",
       "      <td>80.26</td>\n",
       "      <td>34.06</td>\n",
       "      <td>58.60</td>\n",
       "      <td>87.20</td>\n",
       "      <td>67.48</td>\n",
       "      <td>57.49</td>\n",
       "    </tr>\n",
       "    <tr>\n",
       "      <th>407</th>\n",
       "      <td>NaN</td>\n",
       "      <td>Durban, South Africa</td>\n",
       "      <td>40.33</td>\n",
       "      <td>14.69</td>\n",
       "      <td>28.31</td>\n",
       "      <td>33.58</td>\n",
       "      <td>37.72</td>\n",
       "      <td>73.88</td>\n",
       "    </tr>\n",
       "    <tr>\n",
       "      <th>575</th>\n",
       "      <td>NaN</td>\n",
       "      <td>Rawalpindi, Pakistan</td>\n",
       "      <td>20.52</td>\n",
       "      <td>4.78</td>\n",
       "      <td>13.14</td>\n",
       "      <td>18.51</td>\n",
       "      <td>16.18</td>\n",
       "      <td>22.91</td>\n",
       "    </tr>\n",
       "  </tbody>\n",
       "</table>\n",
       "</div>"
      ],
      "text/plain": [
       "     Rank                       City  Cost of Living Index  Rent Index  \\\n",
       "269   NaN  Leicester, United Kingdom                 64.91       24.93   \n",
       "525   NaN           Bogota, Colombia                 27.94       11.61   \n",
       "351   NaN       Phnom Penh, Cambodia                 50.10       18.84   \n",
       "459   NaN             Merida, Mexico                 35.70       11.58   \n",
       "112   NaN  Denver, CO, United States                 75.16       55.36   \n",
       "352   NaN            Zagreb, Croatia                 49.88       17.10   \n",
       "100   NaN   Tampa, FL, United States                 75.83       46.37   \n",
       "51    NaN        Nanaimo, BC, Canada                 80.26       34.06   \n",
       "407   NaN       Durban, South Africa                 40.33       14.69   \n",
       "575   NaN       Rawalpindi, Pakistan                 20.52        4.78   \n",
       "\n",
       "     Cost of Living Plus Rent Index  Groceries Index  Restaurant Price Index  \\\n",
       "269                           46.17            52.47                   72.19   \n",
       "525                           20.29            24.33                   21.98   \n",
       "351                           35.44            54.48                   23.19   \n",
       "459                           24.40            35.71                   36.46   \n",
       "112                           65.88            72.13                   76.59   \n",
       "352                           34.51            42.03                   40.36   \n",
       "100                           62.02            80.03                   74.23   \n",
       "51                            58.60            87.20                   67.48   \n",
       "407                           28.31            33.58                   37.72   \n",
       "575                           13.14            18.51                   16.18   \n",
       "\n",
       "     Local Purchasing Power Index  \n",
       "269                         92.59  \n",
       "525                         26.10  \n",
       "351                         14.80  \n",
       "459                         33.50  \n",
       "112                        129.98  \n",
       "352                         55.08  \n",
       "100                         98.28  \n",
       "51                          57.49  \n",
       "407                         73.88  \n",
       "575                         22.91  "
      ]
     },
     "execution_count": 11,
     "metadata": {},
     "output_type": "execute_result"
    }
   ],
   "source": [
    "cost_of_living = pd.read_csv('costofliving.csv')\n",
    "\n",
    "cost_of_living.sample(10)"
   ]
  },
  {
   "cell_type": "code",
   "execution_count": 12,
   "metadata": {},
   "outputs": [
    {
     "data": {
      "text/plain": [
       "8"
      ]
     },
     "execution_count": 12,
     "metadata": {},
     "output_type": "execute_result"
    }
   ],
   "source": [
    "# Calculate the mean and standard deviation\n",
    "mean = cost_of_living['Rent Index'].mean()\n",
    "std_dev = cost_of_living['Rent Index'].std()\n",
    "\n",
    "# Define the lower and upper bounds using 3 sigma rule\n",
    "lower_bound = mean - 3 * std_dev\n",
    "upper_bound = mean + 3 * std_dev\n",
    "\n",
    "# Filter the DataFrame to remove outliers\n",
    "filtered_df = cost_of_living[(cost_of_living['Rent Index'] >= lower_bound) & (cost_of_living['Rent Index'] <= upper_bound)]\n",
    "\n",
    "len(cost_of_living) - len(filtered_df)"
   ]
  },
  {
   "cell_type": "markdown",
   "metadata": {},
   "source": [
    "### Pergunta 6"
   ]
  },
  {
   "cell_type": "code",
   "execution_count": 13,
   "metadata": {},
   "outputs": [
    {
     "data": {
      "text/plain": [
       "28"
      ]
     },
     "execution_count": 13,
     "metadata": {},
     "output_type": "execute_result"
    }
   ],
   "source": [
    "# Calculate the mean and standard deviation\n",
    "mean = cost_of_living['Rent Index'].mean()\n",
    "std_dev = cost_of_living['Rent Index'].std()\n",
    "\n",
    "# Define the lower and upper bounds using 2 sigma rule\n",
    "lower_bound = mean - 2 * std_dev\n",
    "upper_bound = mean + 2 * std_dev\n",
    "\n",
    "# Filter the DataFrame to remove outliers\n",
    "filtered_df = cost_of_living[(cost_of_living['Rent Index'] >= lower_bound) & (cost_of_living['Rent Index'] <= upper_bound)]\n",
    "\n",
    "len(cost_of_living) - len(filtered_df)"
   ]
  },
  {
   "cell_type": "markdown",
   "metadata": {},
   "source": [
    "### Pergunta 7"
   ]
  },
  {
   "cell_type": "code",
   "execution_count": 14,
   "metadata": {},
   "outputs": [
    {
     "data": {
      "text/plain": [
       "7"
      ]
     },
     "execution_count": 14,
     "metadata": {},
     "output_type": "execute_result"
    }
   ],
   "source": [
    "from scipy import stats\n",
    "\n",
    "# Calculate the z-scores\n",
    "z_scores = stats.zscore(cost_of_living['Groceries Index'])\n",
    "\n",
    "# Define the threshold for outliers (e.g., -3 to +3)\n",
    "threshold = 3\n",
    "\n",
    "# Filter the DataFrame to remove outliers\n",
    "filtered_df = cost_of_living[(z_scores >= -threshold) & (z_scores <= threshold)]\n",
    "\n",
    "len(cost_of_living) - len(filtered_df)"
   ]
  },
  {
   "cell_type": "markdown",
   "metadata": {},
   "source": [
    "### Pergunta 8"
   ]
  },
  {
   "cell_type": "code",
   "execution_count": 16,
   "metadata": {},
   "outputs": [
    {
     "data": {
      "text/plain": [
       "4"
      ]
     },
     "execution_count": 16,
     "metadata": {},
     "output_type": "execute_result"
    }
   ],
   "source": [
    "# Calculate the first quartile (Q1) and third quartile (Q3)\n",
    "Q1 = cost_of_living['Cost of Living Plus Rent Index'].quantile(0.25)\n",
    "Q3 = cost_of_living['Cost of Living Plus Rent Index'].quantile(0.75)\n",
    "\n",
    "# Calculate the interquartile range (IQR)\n",
    "IQR = Q3 - Q1\n",
    "\n",
    "# Define the lower and upper bounds\n",
    "lower_bound = Q1 - 1.5 * IQR\n",
    "upper_bound = Q3 + 1.5 * IQR\n",
    "\n",
    "# Filter the DataFrame to remove outliers\n",
    "filtered_df = cost_of_living[(cost_of_living['Cost of Living Plus Rent Index'] >= lower_bound) & (cost_of_living['Cost of Living Plus Rent Index'] <= upper_bound)]\n",
    "\n",
    "len(cost_of_living) - len(filtered_df)"
   ]
  }
 ],
 "metadata": {
  "kernelspec": {
   "display_name": "Python 3",
   "language": "python",
   "name": "python3"
  },
  "language_info": {
   "codemirror_mode": {
    "name": "ipython",
    "version": 3
   },
   "file_extension": ".py",
   "mimetype": "text/x-python",
   "name": "python",
   "nbconvert_exporter": "python",
   "pygments_lexer": "ipython3",
   "version": "3.12.2"
  }
 },
 "nbformat": 4,
 "nbformat_minor": 2
}
